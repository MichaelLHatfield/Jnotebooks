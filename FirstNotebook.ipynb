{
 "cells": [
  {
   "cell_type": "markdown",
   "id": "8ec6254f",
   "metadata": {},
   "source": [
    "# My Jupyter Notebook on IBM Watso Studio"
   ]
  },
  {
   "cell_type": "markdown",
   "id": "ccb12f30",
   "metadata": {},
   "source": [
    "## **Michael Hatfield**"
   ]
  },
  {
   "cell_type": "markdown",
   "id": "d7f25018",
   "metadata": {},
   "source": [
    "## Data Scientist"
   ]
  },
  {
   "cell_type": "markdown",
   "id": "9b0889ea",
   "metadata": {},
   "source": [
    "## *I am intersted in data science because I find it fascinating that we can make accurate predictions using just a sample of the data from a population. And it pays more than being a public school teahcer in North Carolina.*"
   ]
  },
  {
   "cell_type": "markdown",
   "id": "6655669d",
   "metadata": {},
   "source": [
    "### The formula below shows the difference between 5 and 3"
   ]
  },
  {
   "cell_type": "code",
   "execution_count": 1,
   "id": "567b8afd",
   "metadata": {},
   "outputs": [
    {
     "data": {
      "text/plain": [
       "2"
      ]
     },
     "execution_count": 1,
     "metadata": {},
     "output_type": "execute_result"
    }
   ],
   "source": [
    "5-3"
   ]
  },
  {
   "cell_type": "markdown",
   "id": "82480f4a",
   "metadata": {},
   "source": [
    "***"
   ]
  },
  {
   "cell_type": "markdown",
   "id": "6f3e8e24",
   "metadata": {},
   "source": [
    "### Here is a short list of fun links:"
   ]
  },
  {
   "cell_type": "markdown",
   "id": "a6a924b1",
   "metadata": {},
   "source": [
    "- [Mr Mike On a Bike](http://mrmikeonabike.com)\n",
    "- [You Tube](https://www.youtube.com/channel/UCg3U4XDVa8cc5eP5rbMGjKQ)\n",
    "- [The Hampster Dance!](https://www.youtube.com/watch?v=H9K8-3PHZOU)"
   ]
  },
  {
   "cell_type": "code",
   "execution_count": null,
   "id": "69f9f2c5",
   "metadata": {},
   "outputs": [],
   "source": []
  }
 ],
 "metadata": {
  "kernelspec": {
   "display_name": "Python 3 (ipykernel)",
   "language": "python",
   "name": "python3"
  },
  "language_info": {
   "codemirror_mode": {
    "name": "ipython",
    "version": 3
   },
   "file_extension": ".py",
   "mimetype": "text/x-python",
   "name": "python",
   "nbconvert_exporter": "python",
   "pygments_lexer": "ipython3",
   "version": "3.9.12"
  }
 },
 "nbformat": 4,
 "nbformat_minor": 5
}
